{
 "cells": [
  {
   "cell_type": "code",
   "execution_count": 1,
   "id": "d229175c-6d20-4d6f-a68e-247744613846",
   "metadata": {},
   "outputs": [
    {
     "ename": "NameError",
     "evalue": "name 'im_path' is not defined",
     "output_type": "error",
     "traceback": [
      "\u001b[1;31m---------------------------------------------------------------------------\u001b[0m",
      "\u001b[1;31mNameError\u001b[0m                                 Traceback (most recent call last)",
      "Cell \u001b[1;32mIn[1], line 6\u001b[0m\n\u001b[0;32m      3\u001b[0m \u001b[38;5;28;01mimport\u001b[39;00m \u001b[38;5;21;01mmatplotlib\u001b[39;00m\u001b[38;5;21;01m.\u001b[39;00m\u001b[38;5;21;01mpyplot\u001b[39;00m \u001b[38;5;28;01mas\u001b[39;00m \u001b[38;5;21;01mplt\u001b[39;00m\n\u001b[0;32m      5\u001b[0m \u001b[38;5;66;03m# Load the original image\u001b[39;00m\n\u001b[1;32m----> 6\u001b[0m f \u001b[38;5;241m=\u001b[39m cv2\u001b[38;5;241m.\u001b[39mimread(im_path)\n\u001b[0;32m      8\u001b[0m \u001b[38;5;66;03m# Convert the original image to grayscale\u001b[39;00m\n\u001b[0;32m      9\u001b[0m gray_image \u001b[38;5;241m=\u001b[39m cv2\u001b[38;5;241m.\u001b[39mcvtColor(f, cv2\u001b[38;5;241m.\u001b[39mCOLOR_BGR2GRAY)\n",
      "\u001b[1;31mNameError\u001b[0m: name 'im_path' is not defined"
     ]
    }
   ],
   "source": [
    "\n",
    "import cv2\n",
    "import numpy as np\n",
    "import matplotlib.pyplot as plt\n",
    "\n",
    "# Load the original image\n",
    "im_path = \"./bill4.jpeg\"\n",
    "f = cv2.imread(im_path)\n",
    "\n",
    "# Convert the original image to grayscale\n",
    "gray_image = cv2.cvtColor(f, cv2.COLOR_BGR2GRAY)\n",
    "\n",
    "# Generate Canny edge detection image\n",
    "canny_e = cv2.Canny(gray_image, 100, 150)\n",
    "\n",
    "# Apply Marr-Hildreth edge detection using LoG filter\n",
    "laplacian = cv2.Laplacian(gray_image, cv2.CV_64F)\n",
    "laplacian_abs = np.absolute(laplacian)\n",
    "marr_hildreth_e = cv2.convertScaleAbs(laplacian_abs)\n",
    "\n",
    "# Define the random constant c\n",
    "c = 1\n",
    "\n",
    "# Perform the element-wise addition for Canny\n",
    "g_canny = cv2.add(f, cv2.merge([canny_e] * 3) * c)\n",
    "g_canny = np.clip(g_canny, 0, 255).astype(np.uint8)\n",
    "\n",
    "# Perform the element-wise addition for Marr-Hildreth\n",
    "g_marr_hildreth = cv2.add(f, cv2.merge([marr_hildreth_e] * 3) * c)\n",
    "g_marr_hildreth = np.clip(g_marr_hildreth, 0, 255).astype(np.uint8)\n",
    "# Display the images\n",
    "plt.figure(figsize=(12, 9))\n",
    "\n",
    "# Display the original image\n",
    "plt.subplot(2, 3, 1)\n",
    "plt.imshow(cv2.cvtColor(f, cv2.COLOR_BGR2RGB))\n",
    "plt.title('Original Image')\n",
    "plt.axis('off')\n",
    "\n",
    "# Display the generated Canny edge detection image\n",
    "plt.subplot(2, 3, 2)\n",
    "plt.imshow(canny_e, cmap='gray')\n",
    "plt.title('Generated Canny Edge Detection')\n",
    "plt.axis('off')\n",
    "\n",
    "# Display the generated output image for Canny\n",
    "plt.subplot(2, 3, 3)\n",
    "plt.imshow(cv2.cvtColor(g_canny, cv2.COLOR_BGR2RGB))\n",
    "plt.title('Output Image (Canny)')\n",
    "plt.axis('off')\n",
    "\n",
    "# Display the generated Marr-Hildreth edge detection image\n",
    "plt.subplot(2, 3, 4)\n",
    "plt.imshow(marr_hildreth_e, cmap='gray')\n",
    "plt.title('Generated Marr-Hildreth Edge Detection')\n",
    "plt.axis('off')\n",
    "\n",
    "# Display the generated output image for Marr-Hildreth\n",
    "plt.subplot(2, 3, 5)\n",
    "plt.imshow(cv2.cvtColor(g_marr_hildreth, cv2.COLOR_BGR2RGB))\n",
    "plt.title('Output Image (Marr-Hildreth)')\n",
    "plt.axis('off')\n",
    "\n",
    "# Adjust spacing between images\n",
    "plt.subplots_adjust(hspace=0.5, wspace=0.3)\n",
    "\n",
    "plt.tight_layout()\n",
    "plt.show()\n"
   ]
  }
 ],
 "metadata": {
  "kernelspec": {
   "display_name": "Python 3 (ipykernel)",
   "language": "python",
   "name": "python3"
  },
  "language_info": {
   "codemirror_mode": {
    "name": "ipython",
    "version": 3
   },
   "file_extension": ".py",
   "mimetype": "text/x-python",
   "name": "python",
   "nbconvert_exporter": "python",
   "pygments_lexer": "ipython3",
   "version": "3.11.7"
  }
 },
 "nbformat": 4,
 "nbformat_minor": 5
}
